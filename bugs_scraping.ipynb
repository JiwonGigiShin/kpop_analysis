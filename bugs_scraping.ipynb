{
 "cells": [
  {
   "cell_type": "code",
   "execution_count": 1,
   "metadata": {},
   "outputs": [],
   "source": [
    "import re\n",
    "import requests\n",
    "from bs4 import BeautifulSoup\n",
    "import pandas as pd"
   ]
  },
  {
   "cell_type": "code",
   "execution_count": 13,
   "metadata": {},
   "outputs": [
    {
     "name": "stdout",
     "output_type": "stream",
     "text": [
      "CPU times: user 5.36 s, sys: 114 ms, total: 5.48 s\n",
      "Wall time: 1min 36s\n"
     ]
    }
   ],
   "source": [
    "%%time\n",
    "\n",
    "artist_id = 80177857\n",
    "\n",
    "# 1. url 받아오기\n",
    "# def scrape_bugs(artist_id, page_numbers):\n",
    "# for page_number in range(1,page_numbers+1):\n",
    "\n",
    "url = f'https://music.bugs.co.kr/artist/{artist_id}/tracks?type=RELEASE'\n",
    "request = requests.get(url) # url 불러오기 요청\n",
    "html = request.text\n",
    "soup = BeautifulSoup(html, 'html.parser')\n",
    "\n",
    "song_list = soup.find(\"table\", attrs={'class':'list trackList'}) # 해당 연도의 곡 리스트\n",
    "# 해당 url에서 class가 list trackList인 'table' 태그의 데이터를 song_list에 담음\n",
    "\n",
    "titles = soup.select('p.title') # p 태그의 클래스가 title인 데이터\n",
    "artists = soup.select('p.artist') # p 태그의 클래스가 artist인 데이터\n",
    "albums = soup.select('td.left > a.album') # td 태그의 클래스가 left이고, 하위 데이터 중 a 태그의 클래스가 album인 데이터\n",
    "\n",
    "song_title = [] # 노래 제목\n",
    "song_artist = [] # 가수명\n",
    "album_list = [] # 앨범명\n",
    "like_counts = [] # 좋아요 수\n",
    "song_lyrics = [] # 가사\n",
    "album_img_url = [] # 앨범 이미지 url\n",
    "id_url_list = [] # 노래 고유 번호가 있는 href 데이터를 담는 리스트\n",
    "id_list = [] # 노래 고유 번호를 담는 리스트\n",
    "\n",
    "\n",
    "for elem in soup.find_all('a', href=re.compile('https://music.bugs.co.kr/track')): # 해당 url에서 a 태그를 전부 찾기\n",
    "    id_url_list.append(elem['href']) # a 태그 중에서 href 데이터만 따로 빼내서 id_url_list에 담기\n",
    "\n",
    "for j in range(len(id_url_list)):\n",
    "    a = id_url_list[j].lstrip('https://music.bugs.co.kr/track/')  # 링크1 제거\n",
    "    # lstrip() : 데이터의 왼쪽에서 괄호 안 데이터의 패턴이 발견되면 제거\n",
    "\n",
    "    a1 = a.rstrip('wl_ref=list_tr_08_tr')  # 링크2 제거\n",
    "    # rstrip() : 데이터의 오른쪽에서 괄호 안 데이터의 패턴이 발견되면 제거\n",
    "    b = a1.rstrip('?')  # 물음표 제거\n",
    "\n",
    "    id_list.append(b) # 여기까지 잘 나오는 중\n",
    "\n",
    "# 타이틀, 가수, 앨범명\n",
    "for k in range(len(id_list)):\n",
    "    rank = k + 1 # k=0부터 시작\n",
    "\n",
    "    title = titles[k].text.strip().split('\\n')[0] # titles 데이터에서 양쪽 공백을 제거하고, \\n을 기준으로 분리\n",
    "    song_title.append(title) #song_title에 추가\n",
    "\n",
    "    artist = artists[k].text.strip().split('\\n')[0] # artists 데이터에서 양쪽 공백을 제거하고, \\n을 기준으로 분리\n",
    "    song_artist.append(artist) #song_artist에 추가\n",
    "\n",
    "    album = albums[k].text.strip().split('\\n')[0] # albums 데이터에서 양쪽 공백을 제거하고, \\n을 기준으로 분리\n",
    "    album_list.append(album) #album_list에 추가\n",
    "\n",
    "\n",
    "\n",
    "# 좋아요 & 가사 & 앨범 이미지(url)\n",
    "for m in range(len(id_list)):\n",
    "    l_url = 'https://music.bugs.co.kr/track/' + str(id_list[m]) + '?wl_ref=list_tr_08_' # 전체 url 생성 : 곡 상세 페이지\n",
    "    l_request = requests.get(l_url)\n",
    "    l_html = l_request.text\n",
    "    l_soup = BeautifulSoup(l_html, \"html.parser\")\n",
    "\n",
    "    # 좋아요\n",
    "    like_count = str(l_soup.select(\n",
    "        '#container > section.sectionPadding.summaryInfo.summaryTrack > div > div.etcInfo > span > a > span > em')) # 좋아요 데이터가 있는 html 구조\n",
    "    like_count = re.sub('<.+?>', '', like_count, 0) # 특수문자 제거\n",
    "    like_counts.append(like_count) # 리스트에 추가\n",
    "\n",
    "    # 가사\n",
    "    lyric = str(l_soup.select(\n",
    "        '#container > section.sectionPadding.contents.lyrics > div.innerContainer > div.lyricsContainer > p > xmp')) # 가사 데이터가 있는 html 구조\n",
    "    lyric = re.sub('<.+?>', '', lyric, 0)\n",
    "    song_lyrics.append(lyric)\n",
    "\n",
    "    #     # 앨범 이미지\n",
    "    #     a_img = l_soup.find(\"li\", class_=\"big\").find(\"img\") # li 태그의 class가 big인 곳에서, img 태그를 가진 것 찾기\n",
    "    #     img_src = a_img.get('src') # img 태그에서 src 데이터를 img_src에 담음\n",
    "    #     album_img_url.append(img_src) # 리스트에 추가\n",
    "\n",
    "    #df 생성 후 excel로 저장\n",
    "    column_list = { # dict-key\n",
    "        'song_id': id_list,\n",
    "        'song_name': song_title,\n",
    "        'artist': song_artist,\n",
    "        'album': album_list,\n",
    "        'Like_Count': like_counts,\n",
    "        'Lyric': song_lyrics,\n",
    "    }\n",
    "    artist_name = song_artist[0\n",
    "                             ]\n",
    "\n",
    "    df = pd.DataFrame.from_dict(column_list, orient='index') # dict를 dataframe 형식으로 변환\n",
    "    df = df.transpose() # 행과 열 전환\n",
    "\n",
    "    df.to_csv(f'{artist}_{artist_id}.csv') # 편집자 실행\n",
    "\n"
   ]
  },
  {
   "cell_type": "code",
   "execution_count": null,
   "metadata": {},
   "outputs": [],
   "source": []
  },
  {
   "cell_type": "code",
   "execution_count": null,
   "metadata": {},
   "outputs": [],
   "source": []
  },
  {
   "cell_type": "code",
   "execution_count": null,
   "metadata": {},
   "outputs": [],
   "source": []
  },
  {
   "cell_type": "code",
   "execution_count": null,
   "metadata": {},
   "outputs": [],
   "source": []
  },
  {
   "cell_type": "code",
   "execution_count": null,
   "metadata": {},
   "outputs": [],
   "source": []
  },
  {
   "cell_type": "code",
   "execution_count": null,
   "metadata": {},
   "outputs": [],
   "source": []
  },
  {
   "cell_type": "code",
   "execution_count": null,
   "metadata": {},
   "outputs": [],
   "source": []
  },
  {
   "cell_type": "code",
   "execution_count": null,
   "metadata": {},
   "outputs": [],
   "source": []
  },
  {
   "cell_type": "code",
   "execution_count": null,
   "metadata": {},
   "outputs": [],
   "source": [
    "pd.DataFrame"
   ]
  },
  {
   "cell_type": "code",
   "execution_count": null,
   "metadata": {},
   "outputs": [],
   "source": [
    "{'artist_name':,\n",
    "'artist_id':,\n",
    "'debut_year':,\n",
    "'album_name':,\n",
    " 'album_release_date':,\n",
    "'album_id':,\n",
    "'track_name':,\n",
    "'track_id':,\n",
    " 'track_length':,\n",
    "'Lyrics':,\n",
    " #from bugs\n",
    "'youtube_viewcount':,\n",
    " 'school_girl':,\n",
    "'dancability':,\n",
    "''}"
   ]
  },
  {
   "cell_type": "code",
   "execution_count": null,
   "metadata": {},
   "outputs": [],
   "source": [
    "import "
   ]
  },
  {
   "cell_type": "code",
   "execution_count": null,
   "metadata": {},
   "outputs": [],
   "source": []
  },
  {
   "cell_type": "code",
   "execution_count": null,
   "metadata": {},
   "outputs": [],
   "source": [
    "\n",
    "\n",
    "Artist csv\n",
    "\n",
    "Artist ID\n",
    "Artist Name\n",
    "Debut Year (time)\n",
    "\n",
    "\n",
    "Album csv\n",
    "Artist ID\n",
    "Album ID\n",
    "Album name\n",
    "track ID\n",
    "Release Date (time)\n",
    "\n",
    "\n",
    "Song csv\n",
    "Album ID\n",
    "Song ID\n",
    "Song name\n",
    "Lyrics\n",
    "\n"
   ]
  },
  {
   "cell_type": "code",
   "execution_count": null,
   "metadata": {},
   "outputs": [],
   "source": []
  },
  {
   "cell_type": "code",
   "execution_count": null,
   "metadata": {},
   "outputs": [],
   "source": []
  },
  {
   "cell_type": "code",
   "execution_count": null,
   "metadata": {},
   "outputs": [],
   "source": []
  },
  {
   "cell_type": "code",
   "execution_count": null,
   "metadata": {},
   "outputs": [],
   "source": []
  },
  {
   "cell_type": "code",
   "execution_count": null,
   "metadata": {},
   "outputs": [],
   "source": []
  },
  {
   "cell_type": "code",
   "execution_count": null,
   "metadata": {},
   "outputs": [],
   "source": []
  },
  {
   "cell_type": "code",
   "execution_count": null,
   "metadata": {},
   "outputs": [],
   "source": []
  },
  {
   "cell_type": "code",
   "execution_count": null,
   "metadata": {},
   "outputs": [],
   "source": []
  },
  {
   "cell_type": "code",
   "execution_count": null,
   "metadata": {},
   "outputs": [],
   "source": []
  },
  {
   "cell_type": "code",
   "execution_count": null,
   "metadata": {},
   "outputs": [],
   "source": []
  },
  {
   "cell_type": "code",
   "execution_count": null,
   "metadata": {},
   "outputs": [],
   "source": []
  },
  {
   "cell_type": "code",
   "execution_count": null,
   "metadata": {},
   "outputs": [],
   "source": []
  }
 ],
 "metadata": {
  "kernelspec": {
   "display_name": "Python 3 (ipykernel)",
   "language": "python",
   "name": "python3"
  },
  "language_info": {
   "codemirror_mode": {
    "name": "ipython",
    "version": 3
   },
   "file_extension": ".py",
   "mimetype": "text/x-python",
   "name": "python",
   "nbconvert_exporter": "python",
   "pygments_lexer": "ipython3",
   "version": "3.8.12"
  },
  "toc": {
   "base_numbering": 1,
   "nav_menu": {},
   "number_sections": true,
   "sideBar": true,
   "skip_h1_title": false,
   "title_cell": "Table of Contents",
   "title_sidebar": "Contents",
   "toc_cell": false,
   "toc_position": {},
   "toc_section_display": true,
   "toc_window_display": false
  },
  "vscode": {
   "interpreter": {
    "hash": "4dbc982efd7c8486e7136e5ec6276f2bf926e213467d6ac6a7b9912349f618b9"
   }
  }
 },
 "nbformat": 4,
 "nbformat_minor": 2
}
