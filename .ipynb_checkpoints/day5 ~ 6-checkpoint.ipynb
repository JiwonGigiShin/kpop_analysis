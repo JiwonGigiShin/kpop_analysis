{
 "cells": [
  {
   "cell_type": "markdown",
   "metadata": {},
   "source": [
    "# Day5"
   ]
  },
  {
   "cell_type": "code",
   "execution_count": 1,
   "metadata": {},
   "outputs": [],
   "source": [
    "lst_1 = ['T','R','G','W','Q','M','F','P']\n",
    "lst_2 = ['R','F','H']\n",
    "lst_3 = ['D','S','H','G','V','R','Z','P']\n",
    "lst_4 = ['G','W','F','B','P','H','Q']\n",
    "lst_5 = ['H','J','M','S','P']\n",
    "lst_6 = ['L','P','R','S','H','T','Z','M']\n",
    "lst_7 = ['L','M','N','H','T','P']\n",
    "lst_8 = ['R','Q','D','F']\n",
    "lst_9 = ['H', 'P', 'L', 'N', 'C', 'S', 'D']"
   ]
  },
  {
   "cell_type": "code",
   "execution_count": 2,
   "metadata": {},
   "outputs": [],
   "source": [
    "with open('day5_text.txt', 'r') as f:\n",
    "     elves = f.readlines()\n",
    "    \n",
    "stacks = [line.strip() for line in elves]"
   ]
  },
  {
   "cell_type": "code",
   "execution_count": 3,
   "metadata": {},
   "outputs": [],
   "source": [
    "# stacks"
   ]
  },
  {
   "cell_type": "code",
   "execution_count": 13,
   "metadata": {},
   "outputs": [],
   "source": [
    "# aa = []\n",
    "\n",
    "# for i in range(len(stacks)):\n",
    "#     aa.append(''.join(c for c in stacks[i] if c.isdigit()))"
   ]
  },
  {
   "cell_type": "code",
   "execution_count": 29,
   "metadata": {},
   "outputs": [],
   "source": [
    "number_lst = []\n",
    "for i in range(len(stacks)):\n",
    "    number_lst.append(stacks[i].replace('move ','').replace(' from ',' ').replace(' to ',' '))\n",
    "\n",
    "for i in range(len(number_lst)):\n",
    "    number_lst[i] = number_lst[i].split(' ')"
   ]
  },
  {
   "cell_type": "code",
   "execution_count": 33,
   "metadata": {},
   "outputs": [
    {
     "data": {
      "text/plain": [
       "8"
      ]
     },
     "execution_count": 33,
     "metadata": {},
     "output_type": "execute_result"
    }
   ],
   "source": [
    "int(number_lst[0][1])"
   ]
  },
  {
   "cell_type": "code",
   "execution_count": 39,
   "metadata": {},
   "outputs": [],
   "source": [
    "def moving(number_lst):\n",
    "    \n",
    "    for i in range(len(number_lst)):\n",
    "        a = int(number_lst[i][0])\n",
    "        lst_n1 = f'lst_{number_lst[i][1]}'\n",
    "        lst_n2 = f'lst_{number_lst[i][2]}'\n",
    "\n",
    "        lst_n1 = lst_n1[a:]\n",
    "        lst_n2 = lst_n1[:a] + lst_n2\n",
    "\n",
    "    i+=1"
   ]
  },
  {
   "cell_type": "code",
   "execution_count": 41,
   "metadata": {},
   "outputs": [
    {
     "data": {
      "text/plain": [
       "'st_6'"
      ]
     },
     "execution_count": 41,
     "metadata": {},
     "output_type": "execute_result"
    }
   ],
   "source": [
    "moving(stacks)"
   ]
  },
  {
   "cell_type": "code",
   "execution_count": null,
   "metadata": {},
   "outputs": [],
   "source": [
    "#move {a} from {lst_n1} to {lst_n2}\n",
    "\n",
    "lst_n1 = lst_8\n",
    "lst_n2 = lst_9\n",
    "\n",
    "a=3\n",
    "lst_8[:a] "
   ]
  },
  {
   "cell_type": "code",
   "execution_count": null,
   "metadata": {},
   "outputs": [],
   "source": [
    "new_lst_n1 = lst_n1[a:]\n",
    "new_lst_n2 = lst_n1[0:a] + lst_n2"
   ]
  },
  {
   "cell_type": "markdown",
   "metadata": {},
   "source": []
  },
  {
   "cell_type": "code",
   "execution_count": null,
   "metadata": {},
   "outputs": [],
   "source": [
    "new_lst_n2"
   ]
  },
  {
   "cell_type": "code",
   "execution_count": null,
   "metadata": {},
   "outputs": [],
   "source": []
  }
 ],
 "metadata": {
  "kernelspec": {
   "display_name": "Python 3 (ipykernel)",
   "language": "python",
   "name": "python3"
  },
  "language_info": {
   "codemirror_mode": {
    "name": "ipython",
    "version": 3
   },
   "file_extension": ".py",
   "mimetype": "text/x-python",
   "name": "python",
   "nbconvert_exporter": "python",
   "pygments_lexer": "ipython3",
   "version": "3.8.12"
  },
  "toc": {
   "base_numbering": 1,
   "nav_menu": {},
   "number_sections": true,
   "sideBar": true,
   "skip_h1_title": false,
   "title_cell": "Table of Contents",
   "title_sidebar": "Contents",
   "toc_cell": false,
   "toc_position": {},
   "toc_section_display": true,
   "toc_window_display": false
  },
  "vscode": {
   "interpreter": {
    "hash": "93a3b27077ea6d7baeacf6008850e2043d16951bf3f2904d5b0e59addbc63285"
   }
  }
 },
 "nbformat": 4,
 "nbformat_minor": 2
}
