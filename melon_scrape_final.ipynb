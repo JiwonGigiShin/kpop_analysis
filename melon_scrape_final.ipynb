{
 "cells": [
  {
   "cell_type": "code",
   "execution_count": 1,
   "metadata": {},
   "outputs": [],
   "source": [
    "from selenium import webdriver as wd\n",
    "import time\n",
    "import pandas as pd\n",
    "from bs4 import BeautifulSoup\n",
    "import requests\n",
    "from itertools import repeat\n",
    "from selenium.webdriver.common.by import By"
   ]
  },
  {
   "cell_type": "code",
   "execution_count": 2,
   "metadata": {},
   "outputs": [],
   "source": [
    "def melon_scrape(Decade, Year):\n",
    "    \n",
    "    #open Chromedriver\n",
    "    driver = wd.Chrome('../crawling/chromedriver') #path\n",
    "    driver.maximize_window() #maximise the size of chrome window\n",
    "\n",
    "    #access to specific URL\n",
    "    url = 'https://www.melon.com/chart/index.htm'\n",
    "    driver.get(url)\n",
    "    time.sleep(2)\n",
    "\n",
    "    #select chart finder\n",
    "    driver.find_element(By.XPATH, '//*[@id=\"gnb_menu\"]/ul[1]/li[1]/div/div/button/span').click()\n",
    "    time.sleep(2)\n",
    "\n",
    "    # Yearly Chart\n",
    "    driver.find_element(By.XPATH, '//*[@id=\"d_chart_search\"]/div/h4[3]/a').click()\n",
    "    time.sleep(2)\n",
    "\n",
    "    # Select Decade (2020s)\n",
    "    driver.find_element(By.XPATH, f'//*[@id=\"d_chart_search\"]/div/div/div[1]/div[1]/ul/li[{Decade}]/span').click()\n",
    "    #                                     //*[@id=\"d_chart_search\"]/div/div/div[1]/div[1]/ul/li[1]/span\n",
    "    time.sleep(2)\n",
    "\n",
    "    # Select Year (2021 - 1)\n",
    "    driver.find_element(By.XPATH, f'//*[@id=\"d_chart_search\"]/div/div/div[2]/div[1]/ul/li[{Year}]/span').click()\n",
    "    #                              //*[@id=\"d_chart_search\"]/div/div/div[2]/div[1]/ul/li[1]/span   \n",
    "    time.sleep(2)\n",
    "\n",
    "    # Select Domestic Chart\n",
    "    driver.find_element(By.XPATH, '//*[@id=\"d_chart_search\"]/div/div/div[5]/div[1]/ul/li[2]/span').click()\n",
    "    time.sleep(2)\n",
    "\n",
    "    #Click 'Search'\n",
    "    driver.find_element(By.XPATH, '//*[@id=\"d_srch_form\"]/div[2]/button/span/span').click()\n",
    "    time.sleep(2)\n",
    "\n",
    "    #html\n",
    "    html = driver.page_source #cf) requests.get(url)\n",
    "    soup = BeautifulSoup(html, 'lxml')\n",
    "    \n",
    "    title_lst = [title.find('a').get_text() for title in soup.find_all('div', attrs={'class': 'ellipsis rank01'})]\n",
    "    artist_lst = [singer.get_text() for singer in soup.find_all('span', attrs={'class':'checkEllipsis'})]\n",
    "\n",
    "    rank_lst = []\n",
    "    for i in range(len(title_lst)):\n",
    "        rank_lst.append(i+1)\n",
    "\n",
    "    year_lst = list(repeat(soup.find_all('span', attrs={'class':'datelk'})[0].get_text(), len(title_lst)))\n",
    "\n",
    "\n",
    "    df_melon = pd.DataFrame({'YEAR':year_lst,'RANK':rank_lst,'TITLE':title_lst,'ARTIST':artist_lst})\n",
    "    return df_melon"
   ]
  },
  {
   "cell_type": "code",
   "execution_count": null,
   "metadata": {},
   "outputs": [],
   "source": [
    "#Decade | Year\n",
    "# 2020 - 1 | 2 - 1\n",
    "# 2010 - 2 | 10 - 1\n",
    "# 2000 - 3 | 5 - 1\n"
   ]
  },
  {
   "cell_type": "markdown",
   "metadata": {},
   "source": [
    "# 2020s"
   ]
  },
  {
   "cell_type": "code",
   "execution_count": 3,
   "metadata": {},
   "outputs": [
    {
     "name": "stderr",
     "output_type": "stream",
     "text": [
      "/var/folders/hq/nqwncw9n70j0_vwz8bkfhkf80000gn/T/ipykernel_84619/2131268938.py:4: DeprecationWarning: executable_path has been deprecated, please pass in a Service object\n",
      "  driver = wd.Chrome('../crawling/chromedriver') #path\n"
     ]
    }
   ],
   "source": [
    "# 2020s\n",
    "for i in range(1,3):\n",
    "    df_melon_result = melon_scrape(1, i)\n",
    "    df_melon_result.to_csv(f'melonchart_2020s_{2022-i}.csv')"
   ]
  },
  {
   "cell_type": "markdown",
   "metadata": {},
   "source": [
    "# Different code from ~2014"
   ]
  },
  {
   "cell_type": "code",
   "execution_count": 22,
   "metadata": {},
   "outputs": [],
   "source": [
    "def melon_scrape_from2014(Decade, Year):\n",
    "    \n",
    "    #open Chromedriver\n",
    "    driver = wd.Chrome('../crawling/chromedriver') #path\n",
    "    driver.maximize_window() #maximise the size of chrome window\n",
    "\n",
    "    #access to specific URL\n",
    "    url = 'https://www.melon.com/chart/index.htm'\n",
    "    driver.get(url)\n",
    "    time.sleep(2)\n",
    "\n",
    "    #select chart finder\n",
    "    driver.find_element(By.XPATH, '//*[@id=\"gnb_menu\"]/ul[1]/li[1]/div/div/button/span').click()\n",
    "    time.sleep(2)\n",
    "\n",
    "    # Yearly Chart\n",
    "    driver.find_element(By.XPATH, '//*[@id=\"d_chart_search\"]/div/h4[3]/a').click()\n",
    "    time.sleep(2)\n",
    "\n",
    "    # Select Decade (2020s)\n",
    "    driver.find_element(By.XPATH, f'//*[@id=\"d_chart_search\"]/div/div/div[1]/div[1]/ul/li[{Decade}]/span').click()\n",
    "    #                                     //*[@id=\"d_chart_search\"]/div/div/div[1]/div[1]/ul/li[1]/span\n",
    "    time.sleep(2)\n",
    "\n",
    "    # Select Year (2021 - 1)\n",
    "    driver.find_element(By.XPATH, f'//*[@id=\"d_chart_search\"]/div/div/div[2]/div[1]/ul/li[{Year}]/span').click()\n",
    "    #                              //*[@id=\"d_chart_search\"]/div/div/div[2]/div[1]/ul/li[1]/span   \n",
    "    time.sleep(2)\n",
    "\n",
    "    # Select Domestic Chart\n",
    "    driver.find_element(By.XPATH, '//*[@id=\"d_chart_search\"]/div/div/div[5]/div[1]/ul/li[2]/span').click()\n",
    "    time.sleep(2)\n",
    "\n",
    "    #Click 'Search'\n",
    "    driver.find_element(By.XPATH, '//*[@id=\"d_srch_form\"]/div[2]/button/span/span').click()\n",
    "    time.sleep(2)\n",
    "\n",
    "    #html\n",
    "    html = driver.page_source #cf) requests.get(url)\n",
    "    soup = BeautifulSoup(html, 'lxml')\n",
    "    \n",
    "    title_lst = [title.find('a').get_text() for title in soup.find_all('div', attrs={'class': 'wrap_song_info'})]\n",
    "    artist_lst = [singer.get_text() for singer in soup.find_all('span', attrs={'class':'checkEllipsis'})]\n",
    "\n",
    "    rank_lst = []\n",
    "    for i in range(len(title_lst)):\n",
    "        rank_lst.append(i+1)\n",
    "\n",
    "    year_lst = list(repeat(soup.find_all('span', attrs={'class':'datelk'})[0].get_text(), len(title_lst)))\n",
    "\n",
    "\n",
    "    df_melon_2 = pd.DataFrame({'YEAR':year_lst,'RANK':rank_lst,'TITLE':title_lst,'ARTIST':artist_lst})\n",
    "    return df_melon_2"
   ]
  },
  {
   "cell_type": "code",
   "execution_count": 23,
   "metadata": {},
   "outputs": [
    {
     "name": "stderr",
     "output_type": "stream",
     "text": [
      "/var/folders/hq/nqwncw9n70j0_vwz8bkfhkf80000gn/T/ipykernel_84619/2209187972.py:4: DeprecationWarning: executable_path has been deprecated, please pass in a Service object\n",
      "  driver = wd.Chrome('../crawling/chromedriver') #path\n"
     ]
    }
   ],
   "source": [
    "# 2010-2014\n",
    "for i in range(7,11):\n",
    "    df_melon_result_2 = melon_scrape_from2014(2, i)\n",
    "    df_melon_result_2.to_csv(f'melonchart_2010s_{2020-i}.csv')"
   ]
  },
  {
   "cell_type": "markdown",
   "metadata": {},
   "source": [
    "# 2000s"
   ]
  },
  {
   "cell_type": "code",
   "execution_count": 24,
   "metadata": {},
   "outputs": [
    {
     "name": "stderr",
     "output_type": "stream",
     "text": [
      "/var/folders/hq/nqwncw9n70j0_vwz8bkfhkf80000gn/T/ipykernel_84619/2209187972.py:4: DeprecationWarning: executable_path has been deprecated, please pass in a Service object\n",
      "  driver = wd.Chrome('../crawling/chromedriver') #path\n"
     ]
    }
   ],
   "source": [
    "for i in range(1,6):\n",
    "    df_melon_result_3 = melon_scrape_from2014(3, i)\n",
    "    df_melon_result_3.to_csv(f'melonchart_2010s_{2010-i}.csv')"
   ]
  },
  {
   "cell_type": "code",
   "execution_count": null,
   "metadata": {},
   "outputs": [],
   "source": []
  }
 ],
 "metadata": {
  "kernelspec": {
   "display_name": "Python 3.8.12 64-bit ('lewagon')",
   "language": "python",
   "name": "python3"
  },
  "language_info": {
   "codemirror_mode": {
    "name": "ipython",
    "version": 3
   },
   "file_extension": ".py",
   "mimetype": "text/x-python",
   "name": "python",
   "nbconvert_exporter": "python",
   "pygments_lexer": "ipython3",
   "version": "3.8.12"
  },
  "orig_nbformat": 4,
  "vscode": {
   "interpreter": {
    "hash": "4dbc982efd7c8486e7136e5ec6276f2bf926e213467d6ac6a7b9912349f618b9"
   }
  }
 },
 "nbformat": 4,
 "nbformat_minor": 2
}
