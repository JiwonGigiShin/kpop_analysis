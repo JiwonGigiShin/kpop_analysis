{
 "cells": [
  {
   "cell_type": "markdown",
   "metadata": {},
   "source": [
    "# Part 1"
   ]
  },
  {
   "cell_type": "code",
   "execution_count": 1,
   "metadata": {},
   "outputs": [],
   "source": [
    "with open('day4.txt', 'r') as f:\n",
    "     text = f.readlines()\n",
    "    \n",
    "cleaning = [line.strip() for line in text]"
   ]
  },
  {
   "cell_type": "code",
   "execution_count": 2,
   "metadata": {},
   "outputs": [],
   "source": [
    "divided_lst = []\n",
    "\n",
    "for i in range(len(cleaning)):\n",
    "    divided = list(cleaning[i].split(','))\n",
    "    divided_lst.append(divided)"
   ]
  },
  {
   "cell_type": "code",
   "execution_count": 3,
   "metadata": {},
   "outputs": [],
   "source": [
    "first=[]\n",
    "second = []\n",
    "\n",
    "for i in range(len(cleaning)):\n",
    "    first_elf = divided_lst[i][0].split('-')\n",
    "    second_elf = divided_lst[i][1].split('-') \n",
    "    \n",
    "    first.append(first_elf)\n",
    "    second.append(second_elf)"
   ]
  },
  {
   "cell_type": "code",
   "execution_count": 4,
   "metadata": {},
   "outputs": [],
   "source": [
    "final_lst = []\n",
    "for i in range(len(cleaning)):\n",
    "\n",
    "    first_1 = int(first[i][0])\n",
    "    first_2 = int(first[i][1])\n",
    "\n",
    "    sec_1 = int(second[i][0])\n",
    "    sec_2 = int(second[i][1])\n",
    "\n",
    "    if (first_1 <= sec_1 and first_2>= sec_2) or (first_1 >= sec_1 and first_2 <= sec_2):\n",
    "        final_lst.append(first)\n",
    "\n",
    "answer = len(final_lst)"
   ]
  },
  {
   "cell_type": "markdown",
   "metadata": {},
   "source": [
    "# Part 2"
   ]
  },
  {
   "cell_type": "code",
   "execution_count": 5,
   "metadata": {},
   "outputs": [],
   "source": [
    "\n",
    "first_range = []\n",
    "sec_range = []\n",
    "for a in range(1000):\n",
    "    b = [i for i in range(int(first[a][0]), int(first[a][1])+1)]\n",
    "    first_range.append(b)\n",
    "    \n",
    "    c = [i for i in range(int(second[a][0]), int(second[a][1])+1)]\n",
    "    sec_range.append(c)\n",
    "    "
   ]
  },
  {
   "cell_type": "code",
   "execution_count": 6,
   "metadata": {},
   "outputs": [],
   "source": [
    "def common_data(list1, list2):\n",
    "    result = False\n",
    "  \n",
    "    # traverse in the 1st list\n",
    "    for x in list1:\n",
    "  \n",
    "        # traverse in the 2nd list\n",
    "        for y in list2:\n",
    "    \n",
    "            # if one common\n",
    "            if x == y:\n",
    "                result = True\n",
    "                return result \n",
    "                  \n",
    "    return result"
   ]
  },
  {
   "cell_type": "code",
   "execution_count": 7,
   "metadata": {},
   "outputs": [],
   "source": [
    "common_lst_bool=[]\n",
    "for i in range(1000):\n",
    "    common_lst_bool.append(common_data(first_range[i], sec_range[i]))\n",
    "    \n",
    "    \n",
    "final_lst_pt2 = [x for x in common_lst_bool if x==True]\n",
    "\n",
    "answer_pt2 = len(final_lst_pt2)"
   ]
  },
  {
   "cell_type": "code",
   "execution_count": 8,
   "metadata": {},
   "outputs": [
    {
     "data": {
      "text/plain": [
       "835"
      ]
     },
     "execution_count": 8,
     "metadata": {},
     "output_type": "execute_result"
    }
   ],
   "source": [
    "answer_pt2"
   ]
  },
  {
   "cell_type": "code",
   "execution_count": null,
   "metadata": {},
   "outputs": [],
   "source": []
  }
 ],
 "metadata": {
  "kernelspec": {
   "display_name": "Python 3.8.12 64-bit ('lewagon')",
   "language": "python",
   "name": "python3"
  },
  "language_info": {
   "codemirror_mode": {
    "name": "ipython",
    "version": 3
   },
   "file_extension": ".py",
   "mimetype": "text/x-python",
   "name": "python",
   "nbconvert_exporter": "python",
   "pygments_lexer": "ipython3",
   "version": "3.8.12"
  },
  "orig_nbformat": 4,
  "vscode": {
   "interpreter": {
    "hash": "4dbc982efd7c8486e7136e5ec6276f2bf926e213467d6ac6a7b9912349f618b9"
   }
  }
 },
 "nbformat": 4,
 "nbformat_minor": 2
}
